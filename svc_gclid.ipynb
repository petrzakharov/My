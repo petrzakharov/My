{
 "cells": [
  {
   "cell_type": "code",
   "execution_count": 1,
   "metadata": {},
   "outputs": [],
   "source": [
    "from urllib.parse import unquote\n",
    "import pandas as pd\n",
    "df = pd.read_csv('/Users/peter/Desktop/DF/credit_04.csv', delimiter = '\\t')\n",
    "df = df.query('CAMPAIGN_MEDIUM == \"PKW\" & UNIQ == 1 & applied >0')\n",
    "df = df[(df['CAMPAIGN'] != 'TM') & (df['CAMPAIGN'] != 'VK')]\n",
    "df['source'] = df['CAMPAIGN'].apply(lambda x: 'google' if 'google' in str(x) else 'yandex')\n",
    "df = df.query('source == \"google\"')\n",
    "df['Google Click ID'] = df.URL.apply(lambda x: str(x).split('=')[-1] \n",
    "                                     if 'gclid' in str(x) else 'error')\n",
    "df = df[df['Google Click ID'] != 'error']\n",
    "df['Conversion Name'] = 'applied'\n",
    "df['Conversion Time'] = df.LEAD_DATE\n",
    "df['Conversion Value'] = 0\n",
    "df['Conversion Currency'] = 'RUB'\n",
    "filtered = ['Google Click ID','Conversion Name','Conversion Value','Conversion Currency']\n",
    "df = df.filter(items = filtered)\n",
    "writer = pd.ExcelWriter('GCLID_EXP.xlsx', engine='xlsxwriter')\n",
    "df.to_excel(writer, 'Sheet1')\n",
    "writer.save()"
   ]
  },
  {
   "cell_type": "code",
   "execution_count": null,
   "metadata": {},
   "outputs": [],
   "source": []
  }
 ],
 "metadata": {
  "kernelspec": {
   "display_name": "Python 3",
   "language": "python",
   "name": "python3"
  },
  "language_info": {
   "codemirror_mode": {
    "name": "ipython",
    "version": 3
   },
   "file_extension": ".py",
   "mimetype": "text/x-python",
   "name": "python",
   "nbconvert_exporter": "python",
   "pygments_lexer": "ipython3",
   "version": "3.7.2"
  }
 },
 "nbformat": 4,
 "nbformat_minor": 2
}

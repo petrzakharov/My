{
 "cells": [
  {
   "cell_type": "markdown",
   "metadata": {},
   "source": [
    "## Обработка фида, тестирование на корректность значений\n",
    "### Задача\n",
    "1. Числовые значения в фиде заменить на текстовые значения из файла РМС, в следующих колонках:\n",
    "    * __ga:dimension5__ (Отдел)\n",
    "    * __ga:dimension6__ (Подотдел)\n",
    "2. Проверка фида по условиям:\n",
    "    * Проверку уникальности строк\n",
    "    * Проверку количества столбцов\n",
    "    * Проверка корректности значений в столбцах\n",
    "\n",
    "### Результаты  \n",
    "* __Данные на входе:__ 2 файла - feed и rms, указываем путь до папки\n",
    "* __Данные на выходе:__ обработанный фид в формате csv, название файла: feed_updated\n",
    "* __Результаты проверки скрипта на корректность__ печатаются в командной строке/ipynb"
   ]
  },
  {
   "cell_type": "code",
   "execution_count": 171,
   "metadata": {},
   "outputs": [],
   "source": [
    "import pandas as pd\n",
    "import numpy as np\n",
    "import os\n",
    "import xlsxwriter\n",
    "import glob\n",
    "pd.set_option('display.max_columns', 100)\n",
    "pd.set_option('display.max_rows', 10000)\n",
    "import warnings\n",
    "warnings.filterwarnings('ignore')"
   ]
  },
  {
   "cell_type": "code",
   "execution_count": 192,
   "metadata": {},
   "outputs": [],
   "source": [
    "#указываем путь до папки с файлами\n",
    "path = '/Users/peter/Desktop/feed_new/'"
   ]
  },
  {
   "cell_type": "code",
   "execution_count": 195,
   "metadata": {},
   "outputs": [],
   "source": [
    "#параметры для проверки фида\n",
    "parametres_feed = {'columns_number':23,\n",
    "                   \n",
    "                   'columns_names':       \n",
    "['ga:productSku','ga:productCategoryHierarchy','ga:dimension131','ga:dimension132','ga:productName','ga:dimension5',\n",
    " 'ga:dimension6','ga:productBrand','ga:dimension9','ga:dimension11','ga:dimension55','ga:dimension57',\n",
    " 'ga:dimension59','ga:dimension60','ga:dimension61','ga:dimension62','ga:dimension63','ga:dimension64',\n",
    " 'ga:dimension65','ga:dimension77','ga:dimension110','ga:dimension111','ga:dimension113'],\n",
    "                  \n",
    "                   'not_string_columns':\n",
    "['ga:productSku','ga:productCategoryHierarchy','ga:dimension131',\n",
    "    'ga:dimension57','ga:dimension61','ga:dimension62','ga:dimension63','ga:dimension110','ga:dimension111']}"
   ]
  },
  {
   "cell_type": "code",
   "execution_count": 193,
   "metadata": {},
   "outputs": [],
   "source": [
    "def get_files(path=path):\n",
    "    '''\n",
    "    Фид в csv файле, выгрузка РМС в exlsx файле\n",
    "    '''\n",
    "    allert_incorrect_count = 'Некорректное количество файлов в папке'\n",
    "    dict_csv = {}\n",
    "    dict_xlsx = {}\n",
    "    for filename in glob.glob(os.path.join(path,'*.csv')):\n",
    "        name = (filename.split('/')[-1])\n",
    "        dict_csv[name] = filename\n",
    "    if len(dict_csv)>1:\n",
    "        print(f'{allert_incorrect_count}, Файлов сsv:{len(dict_csv)}')\n",
    "    else:\n",
    "        print('ФИД загружен')\n",
    "    for filename in glob.glob(os.path.join(path,'*.xlsx')):\n",
    "        name = filename.split('/')[-1]\n",
    "        dict_xlsx[name] = filename\n",
    "    if len(dict_xlsx)>1:\n",
    "        print(f'{allert_incorrect_count}, Файлов xlsx:{len(dict_xlsx)}')\n",
    "    else:\n",
    "        print('РМС загружен')\n",
    "    return dict_csv, dict_xlsx"
   ]
  },
  {
   "cell_type": "code",
   "execution_count": 194,
   "metadata": {
    "scrolled": true
   },
   "outputs": [
    {
     "name": "stdout",
     "output_type": "stream",
     "text": [
      "ФИД загружен\n",
      "РМС загружен\n"
     ]
    }
   ],
   "source": [
    "feed_dict, rms_dict = get_files()"
   ]
  },
  {
   "cell_type": "code",
   "execution_count": 178,
   "metadata": {},
   "outputs": [],
   "source": [
    "def get_otdel_podotdel(rms_dict = rms_dict):\n",
    "    df_rms = pd.read_excel(list(rms_dict.values())[0])\n",
    "    df_podotdel = ((df_rms[[i for i in df_rms if i.lower().replace('%','') in ['подотдел']]]\\\n",
    "                   .drop_duplicates())\\\n",
    "                   .iloc[:-1,:])\n",
    "    df_otdel = df_rms[[i for i in df_rms if i.lower().replace('%','') in ['отдел']]].drop_duplicates().iloc[:-1,:]\n",
    "    df_otdel['%Отдел'] = df_otdel['%Отдел'].astype('int16')\n",
    "    df_podotdel['%Подотдел'] = df_podotdel['%Подотдел'].astype('int16')\n",
    "    display()\n",
    "    return df_otdel, df_podotdel"
   ]
  },
  {
   "cell_type": "code",
   "execution_count": 92,
   "metadata": {},
   "outputs": [],
   "source": [
    "#a,b = get_otdel_podotdel() - удалить"
   ]
  },
  {
   "cell_type": "code",
   "execution_count": 182,
   "metadata": {},
   "outputs": [],
   "source": [
    "def merge_otdel_podotdel(feed_dict = feed_dict):\n",
    "    df_feed = pd.read_csv(list(feed_dict.values())[0])\n",
    "    df_otdel, df_podotdel = get_otdel_podotdel()\n",
    "    df = df_feed.merge(df_podotdel, right_on='%Подотдел', left_on='ga:dimension6', how='left')\n",
    "    df = df.merge(df_otdel, right_on='%Отдел', left_on='ga:dimension5', how='left')\n",
    "    df['ga:dimension5'] = df['Отдел']\n",
    "    df['ga:dimension6'] = df['Подотдел']\n",
    "    df.drop([i for i in df.columns if ('отдел' or 'подотдел') in i.lower()], axis=1, inplace=True)\n",
    "    df.to_csv(path+'feed_new.csv', index = False)\n",
    "    print('Фид сохранен в папку')\n",
    "    display(df.head(5))\n",
    "    return df"
   ]
  },
  {
   "cell_type": "code",
   "execution_count": 2,
   "metadata": {},
   "outputs": [],
   "source": [
    "df = merge_otdel_podotdel()"
   ]
  },
  {
   "cell_type": "code",
   "execution_count": 196,
   "metadata": {},
   "outputs": [],
   "source": [
    "def checking_correct_values_in_columns():\n",
    "    global df, parametres_feed\n",
    "    error_list = []\n",
    "    incorrect_values_dict = {}\n",
    "    for col in list(df.columns):\n",
    "        if col in parametres_feed['not_string_columns']:\n",
    "            for val in list(df[col].unique()): #если значения явно не стринг, float(val) - ок, нет - ошибка\n",
    "                try:\n",
    "                    float(val)\n",
    "                except Exception as e:\n",
    "                    error_list.append(val)\n",
    "            if len(error_list) > 0:\n",
    "                incorrect_values_dict[col] = error_list\n",
    "                error_list = []\n",
    "        else:\n",
    "            for val in list(df[col].unique()): #если значение явно стринг, float(val) - не ок, нет - все ок\n",
    "                try:\n",
    "                    float(val)\n",
    "                    error_list.append(val)\n",
    "                except Exception as e:\n",
    "                    continue\n",
    "            if len(error_list) > 0:\n",
    "                incorrect_values_dict[col] = error_list\n",
    "                error_list = []\n",
    "    if len(incorrect_values_dict.keys())>0:\n",
    "        print('В столбцах есть некорректные значения, не соответствующие типу столбца')\n",
    "        return incorrect_values_dict\n",
    "    else:\n",
    "        print('Типы значений в столбцах: OK')"
   ]
  },
  {
   "cell_type": "code",
   "execution_count": 5,
   "metadata": {},
   "outputs": [],
   "source": [
    "checking_correct_values_in_columns()"
   ]
  },
  {
   "cell_type": "code",
   "execution_count": 190,
   "metadata": {},
   "outputs": [],
   "source": [
    "def checking_feed(parametres_feed=parametres_feed):\n",
    "    '''\n",
    "    Проверка уникальности строк и количества \"столбцов\"\n",
    "    '''\n",
    "    global df\n",
    "    \n",
    "    if parametres_feed['columns_number'] != df_test.shape[1]:\n",
    "        print(f'Количество столбцов не совпадает с параметрами, {df_test.shape[1]}')\n",
    "    else:\n",
    "        print(f'Количество столбцов: ОК')\n",
    "    \n",
    "    if parametres_feed['columns_names'] != list(df_test.columns):\n",
    "        print(f'Наименования столбцов не совпадает с параметрами\\n{list(df_test.columns)}')\n",
    "    else:\n",
    "        print(f'Наименования столбцов: ОК')\n",
    "        \n",
    "    if df_test.duplicated().sum() != 0:\n",
    "        print(f'В фиде есть дубликаты строк')\n",
    "    else:\n",
    "        print('Дубликаты строк: ОК')"
   ]
  },
  {
   "cell_type": "code",
   "execution_count": 191,
   "metadata": {},
   "outputs": [
    {
     "name": "stdout",
     "output_type": "stream",
     "text": [
      "Количество столбцов: ОК\n",
      "Наименования столбцов: ОК\n",
      "Дубликаты строк: ОК\n"
     ]
    }
   ],
   "source": [
    "checking_feed()"
   ]
  },
  {
   "cell_type": "code",
   "execution_count": null,
   "metadata": {},
   "outputs": [],
   "source": []
  }
 ],
 "metadata": {
  "hide_input": false,
  "kernelspec": {
   "display_name": "Python 3",
   "language": "python",
   "name": "python3"
  },
  "language_info": {
   "codemirror_mode": {
    "name": "ipython",
    "version": 3
   },
   "file_extension": ".py",
   "mimetype": "text/x-python",
   "name": "python",
   "nbconvert_exporter": "python",
   "pygments_lexer": "ipython3",
   "version": "3.7.2"
  }
 },
 "nbformat": 4,
 "nbformat_minor": 2
}

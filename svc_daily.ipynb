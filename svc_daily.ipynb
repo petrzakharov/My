{
 "cells": [
  {
   "cell_type": "code",
   "execution_count": null,
   "metadata": {},
   "outputs": [],
   "source": [
    "import pandas as pd\n",
    "#вставить полный путь до csv файла с выгрузкой от клиента\n",
    "s = input()\n",
    "df = pd.read_csv(s, delimiter = '\\t', low_memory=False)\n",
    "df = df[ (df['UNIQ'] == 1) & (df['CAMPAIGN_MEDIUM']=='PKW') & (df['issued']==1)]\n",
    "df['utm_content'] = df['COOKIE'].apply(lambda x: str(x)).apply(lambda x: x.split('=')[-1])\n",
    "df['utm_campaign'] = df['COOKIE'].apply(lambda x: str(x)).apply(lambda x: x.split('=')[2:3])\n",
    "df = df.filter(items = ['CAMPAIGN_SOURCE', 'CAMPAIGN_MEDIUM','issued','applied','UNIQ','LEAD_DATE','utm_content','utm_campaign'])\n",
    "df.columns = ['utm_source','utm_medium','issued','applied','UNIQ','date','utm_content','utm_campaign']\n",
    "df['utm_campaign'] = df['utm_campaign'].apply(lambda x: str(x)).apply(lambda x: x[2:(len(x)-9)])\n",
    "df['utm_campaign'] = df['utm_campaign'].apply(lambda x: x.replace('|','_'))\n",
    "df['utm_campaign_no_id'] = df['utm_campaign'].apply(lambda x: x.split('_')[1:]).apply(lambda x: '_'.join(x))\n",
    "\n",
    "df['source_m'] = df.utm_campaign.apply(lambda x: 'YandexDirect' if 'yandex' in x else 'GoogleAdWords' if 'google' in x else 'NaN')                                             \n",
    "df['campaign_type'] = df.utm_campaign.apply(lambda x: 'Search' if 'search' in x else 'Network' if 'network' in x else 'NaN')\n",
    "df['month'] = df['date'].apply(lambda x: x.split('-')[1])\n",
    "df.dropna()\n",
    "df.reset_index()\n",
    "writer = pd.ExcelWriter('SVC_EXPORT_'+s.split('/')[-1][:-4]+'.xlsx', engine='xlsxwriter')\n",
    "df.to_excel(writer, 'Sheet1')\n",
    "writer.save()\n"
   ]
  },
  {
   "cell_type": "code",
   "execution_count": null,
   "metadata": {},
   "outputs": [],
   "source": []
  }
 ],
 "metadata": {
  "kernelspec": {
   "display_name": "Python 3",
   "language": "python",
   "name": "python3"
  },
  "language_info": {
   "codemirror_mode": {
    "name": "ipython",
    "version": 3
   },
   "file_extension": ".py",
   "mimetype": "text/x-python",
   "name": "python",
   "nbconvert_exporter": "python",
   "pygments_lexer": "ipython3",
   "version": "3.7.2"
  }
 },
 "nbformat": 4,
 "nbformat_minor": 2
}
